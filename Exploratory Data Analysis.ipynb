{
 "cells": [
  {
   "cell_type": "markdown",
   "id": "ec7326ea-21dd-4fc9-bd5b-ddd7c7b4eb38",
   "metadata": {},
   "source": [
    "# Exploratory Data Analysis of Data Pulled from TMDB API"
   ]
  },
  {
   "cell_type": "markdown",
   "id": "a1cae8e1-2914-417e-83a7-bbea5736425a",
   "metadata": {},
   "source": [
    "## Load and Import Libraries"
   ]
  },
  {
   "cell_type": "code",
   "execution_count": 1,
   "id": "9d36d866-47d6-4f16-b145-a9cc85f1b66d",
   "metadata": {},
   "outputs": [],
   "source": [
    "# Load libraries\n",
    "import pandas as pd\n",
    "import numpy as np\n",
    "import matplotlib.pyplot as plt\n",
    "import seaborn as sns\n",
    "import os, json\n",
    "import glob\n",
    "from sqlalchemy import create_engine\n",
    "pd.set_option('display.max_columns',50)"
   ]
  },
  {
   "cell_type": "markdown",
   "id": "76fb440d-f711-4e51-9120-939cd43e00d7",
   "metadata": {},
   "source": [
    "## Load TMDB files"
   ]
  },
  {
   "cell_type": "code",
   "execution_count": 2,
   "id": "375bb018-b83c-4275-9fdf-9fff1df69acc",
   "metadata": {},
   "outputs": [
    {
     "data": {
      "text/plain": [
       "['Data/tmdb_api_results_2001.csv.gz', 'Data/tmdb_api_results_2002.csv.gz']"
      ]
     },
     "execution_count": 2,
     "metadata": {},
     "output_type": "execute_result"
    }
   ],
   "source": [
    "# Use glob to get all file paths that match the pattern (*=wildcard)\n",
    "tmdb_files = sorted(glob.glob(\"Data/tmdb_api_results*.csv.gz\"))\n",
    "tmdb_files"
   ]
  },
  {
   "cell_type": "code",
   "execution_count": 3,
   "id": "66a04661-c451-4bae-ba99-8f358ef5f032",
   "metadata": {},
   "outputs": [],
   "source": [
    "# Adding line terminator arg to get around error\n",
    "df = pd.concat([pd.read_csv(f, lineterminator='\\n') for f in tmdb_files] )"
   ]
  },
  {
   "cell_type": "markdown",
   "id": "38e5d240-de9b-4365-ad91-35ba186862e5",
   "metadata": {},
   "source": [
    "## EDA"
   ]
  },
  {
   "cell_type": "code",
   "execution_count": 5,
   "id": "8fb2655c-39c9-4932-a650-35bb9a923084",
   "metadata": {},
   "outputs": [
    {
     "data": {
      "text/plain": [
       "2676"
      ]
     },
     "execution_count": 5,
     "metadata": {},
     "output_type": "execute_result"
    }
   ],
   "source": [
    "# Drop duplicates\n",
    "df = df.drop_duplicates()\n",
    "len(df)"
   ]
  },
  {
   "cell_type": "code",
   "execution_count": 6,
   "id": "48da7540-e152-4fb9-acae-c1d93e01142c",
   "metadata": {},
   "outputs": [
    {
     "name": "stdout",
     "output_type": "stream",
     "text": [
      "<class 'pandas.core.frame.DataFrame'>\n",
      "Int64Index: 2676 entries, 0 to 2664\n",
      "Data columns (total 26 columns):\n",
      " #   Column                 Non-Null Count  Dtype  \n",
      "---  ------                 --------------  -----  \n",
      " 0   adult                  2676 non-null   bool   \n",
      " 1   backdrop_path          1572 non-null   object \n",
      " 2   belongs_to_collection  221 non-null    object \n",
      " 3   budget                 2676 non-null   int64  \n",
      " 4   genres                 2676 non-null   object \n",
      " 5   homepage               216 non-null    object \n",
      " 6   id                     2676 non-null   int64  \n",
      " 7   imdb_id                2676 non-null   object \n",
      " 8   original_language      2676 non-null   object \n",
      " 9   original_title         2676 non-null   object \n",
      " 10  overview               2620 non-null   object \n",
      " 11  popularity             2676 non-null   float64\n",
      " 12  poster_path            2449 non-null   object \n",
      " 13  production_companies   2676 non-null   object \n",
      " 14  production_countries   2676 non-null   object \n",
      " 15  release_date           2654 non-null   object \n",
      " 16  revenue                2676 non-null   int64  \n",
      " 17  runtime                2676 non-null   int64  \n",
      " 18  spoken_languages       2676 non-null   object \n",
      " 19  status                 2676 non-null   object \n",
      " 20  tagline                1189 non-null   object \n",
      " 21  title                  2676 non-null   object \n",
      " 22  video                  2676 non-null   bool   \n",
      " 23  vote_average           2676 non-null   float64\n",
      " 24  vote_count             2676 non-null   int64  \n",
      " 25  certification          837 non-null    object \n",
      "dtypes: bool(2), float64(2), int64(5), object(17)\n",
      "memory usage: 527.9+ KB\n"
     ]
    }
   ],
   "source": [
    "# Get information about the dataset\n",
    "df.info()"
   ]
  },
  {
   "cell_type": "markdown",
   "id": "23f785ff-e62c-4d45-a7b0-538b8d14b5c8",
   "metadata": {},
   "source": [
    "- ***1) How many movies had at least some valid financial information (values > 0 for budget OR revenue)?***"
   ]
  },
  {
   "cell_type": "code",
   "execution_count": 7,
   "id": "90042b4b-aeae-4e79-81ee-487ed6ae7826",
   "metadata": {},
   "outputs": [
    {
     "data": {
      "text/plain": [
       "758"
      ]
     },
     "execution_count": 7,
     "metadata": {},
     "output_type": "execute_result"
    }
   ],
   "source": [
    "# Count the number of unique movies (entries) with non-zero revenue or budget\n",
    "filter = (df['revenue'] > 0) | (df['budget'] > 0)\n",
    "len(df[filter].drop_duplicates(subset = ['original_title']))"
   ]
  },
  {
   "cell_type": "markdown",
   "id": "343f5d0b-4402-45de-9ecc-58cdff09cf2b",
   "metadata": {},
   "source": [
    "- There 758 unique movies (entries) with valid financial information."
   ]
  },
  {
   "cell_type": "markdown",
   "id": "a794c4a4-0fc3-4059-926f-a364b9780367",
   "metadata": {},
   "source": [
    "- ***2) How many movies are there in each of the certification categories (G/PG/PG-13/R)?***"
   ]
  },
  {
   "cell_type": "code",
   "execution_count": 8,
   "id": "b8164895-14d0-411c-b07f-76374390dbe2",
   "metadata": {},
   "outputs": [],
   "source": [
    "# Remove duplicate entries\n",
    "df_2 = df.drop_duplicates(subset = ['original_title']).copy()"
   ]
  },
  {
   "cell_type": "code",
   "execution_count": 10,
   "id": "ffd3dfac-557d-4c64-bbad-82e37178578e",
   "metadata": {},
   "outputs": [
    {
     "data": {
      "image/png": "[encoded data removed]",
      "text/plain": [
       "<Figure size 640x480 with 1 Axes>"
      ]
     },
     "metadata": {},
     "output_type": "display_data"
    }
   ],
   "source": [
    "# Create figure with appropriate\n",
    "fig, ax1 = plt.subplots();\n",
    "\n",
    "# Plot a count plot\n",
    "sns.countplot(data=df_2, x='certification', ax=ax1);\n",
    "\n",
    "# Add a title with the feature name included\n",
    "ax1.set_title('Number of Movies per Category');\n",
    "\n",
    "# Tighten layout\n",
    "fig.tight_layout();"
   ]
  },
  {
   "cell_type": "markdown",
   "id": "3983911c-37f4-47ab-ac16-b38509c02f2b",
   "metadata": {},
   "source": [
    "- ***3) What is the average revenue per certification category?***"
   ]
  },
  {
   "cell_type": "code",
   "execution_count": 14,
   "id": "91f7c5c2-58d1-4140-b4bb-abfa482f3033",
   "metadata": {},
   "outputs": [
    {
     "data": {
      "image/png": "[encoded data removed]",
      "text/plain": [
       "<Figure size 640x480 with 1 Axes>"
      ]
     },
     "metadata": {},
     "output_type": "display_data"
    }
   ],
   "source": [
    "# Create figure with appropriate\n",
    "fig2, ax2 = plt.subplots();\n",
    "\n",
    "# Plot a count plot\n",
    "sns.barplot(data=df_2, x='certification', y='revenue', ax=ax2, errorbar = None, estimator = 'mean');\n",
    "\n",
    "# Add a title with the feature name included\n",
    "ax2.set_title('Average Revenue of Movies per Category');\n",
    "\n",
    "# Tighten layout\n",
    "fig.tight_layout();"
   ]
  },
  {
   "cell_type": "markdown",
   "id": "53c9722b-b4f6-4a17-8059-3b934e5d58bf",
   "metadata": {},
   "source": [
    "- ***4) What is the average budget per certification category?***"
   ]
  },
  {
   "cell_type": "code",
   "execution_count": 15,
   "id": "c1f5ed17-6094-4c5a-ba13-ab44ec45e1d9",
   "metadata": {},
   "outputs": [
    {
     "data": {
      "image/png": "[encoded data removed]",
      "text/plain": [
       "<Figure size 640x480 with 1 Axes>"
      ]
     },
     "metadata": {},
     "output_type": "display_data"
    }
   ],
   "source": [
    "# Create figure with appropriate\n",
    "fig3, ax3 = plt.subplots();\n",
    "\n",
    "# Plot a count plot\n",
    "sns.barplot(data=df_2, x='certification', y='budget', ax=ax3, errorbar = None, estimator = 'mean');\n",
    "\n",
    "# Add a title with the feature name included\n",
    "ax2.set_title('Average Budget of Movies per Category');\n",
    "\n",
    "# Tighten layout\n",
    "fig.tight_layout();"
   ]
  },
  {
   "cell_type": "markdown",
   "id": "2b1f17ff-076f-4748-aa52-82bbfcf8b17b",
   "metadata": {},
   "source": [
    "- ***SUMMARY***\n",
    "- Rated 'R' movies were the most common ones during the year 2001 and 2002\n",
    "- Movies with 'PG' category have the highest average revenue during the said period\n",
    "- Movies with 'PG-13' category spends the most during the said period"
   ]
  }
 ],
 "metadata": {
  "kernelspec": {
   "display_name": "Python (dojo-env)",
   "language": "python",
   "name": "dojo-env"
  },
  "language_info": {
   "codemirror_mode": {
    "name": "ipython",
    "version": 3
   },
   "file_extension": ".py",
   "mimetype": "text/x-python",
   "name": "python",
   "nbconvert_exporter": "python",
   "pygments_lexer": "ipython3",
   "version": "3.10.10"
  }
 },
 "nbformat": 4,
 "nbformat_minor": 5
}
