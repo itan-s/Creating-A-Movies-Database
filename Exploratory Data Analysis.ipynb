{
 "cells": [
  {
   "cell_type": "markdown",
   "id": "ec7326ea-21dd-4fc9-bd5b-ddd7c7b4eb38",
   "metadata": {},
   "source": [
    "# Exploratory Data Analysis of Data Pulled from TMDB API"
   ]
  },
  {
   "cell_type": "markdown",
   "id": "a1cae8e1-2914-417e-83a7-bbea5736425a",
   "metadata": {},
   "source": [
    "## Load and Import Libraries"
   ]
  },
  {
   "cell_type": "code",
   "execution_count": 2,
   "id": "9d36d866-47d6-4f16-b145-a9cc85f1b66d",
   "metadata": {},
   "outputs": [],
   "source": [
    "# Load libraries\n",
    "import pandas as pd\n",
    "import numpy as np\n",
    "import matplotlib.pyplot as plt\n",
    "import seaborn as sns\n",
    "import os, json\n",
    "import glob\n",
    "from sqlalchemy import create_engine\n",
    "pd.set_option('display.max_columns',50)"
   ]
  },
  {
   "cell_type": "markdown",
   "id": "76fb440d-f711-4e51-9120-939cd43e00d7",
   "metadata": {},
   "source": [
    "## Load TMDB files"
   ]
  },
  {
   "cell_type": "code",
   "execution_count": null,
   "id": "375bb018-b83c-4275-9fdf-9fff1df69acc",
   "metadata": {},
   "outputs": [],
   "source": [
    "# Use glob to get all file paths that match the pattern (*=wildcard)\n",
    "tmdb_files = sorted(glob.glob(\"Data/tmdb_api_results*.csv.gz\"))\n",
    "tmdb_files"
   ]
  },
  {
   "cell_type": "code",
   "execution_count": null,
   "id": "66a04661-c451-4bae-ba99-8f358ef5f032",
   "metadata": {},
   "outputs": [],
   "source": [
    "# Adding line terminator arg to get around error\n",
    "df = pd.concat([pd.read_csv(f, lineterminator='\\n') for f in tmdb_files] )"
   ]
  },
  {
   "cell_type": "markdown",
   "id": "38e5d240-de9b-4365-ad91-35ba186862e5",
   "metadata": {},
   "source": [
    "## EDA"
   ]
  },
  {
   "cell_type": "code",
   "execution_count": null,
   "id": "8fb2655c-39c9-4932-a650-35bb9a923084",
   "metadata": {},
   "outputs": [],
   "source": []
  },
  {
   "cell_type": "markdown",
   "id": "23f785ff-e62c-4d45-a7b0-538b8d14b5c8",
   "metadata": {},
   "source": [
    "How many movies had at least some valid financial information (values > 0 for budget OR revenue)?"
   ]
  },
  {
   "cell_type": "code",
   "execution_count": null,
   "id": "90042b4b-aeae-4e79-81ee-487ed6ae7826",
   "metadata": {},
   "outputs": [],
   "source": []
  }
 ],
 "metadata": {
  "kernelspec": {
   "display_name": "Python (dojo-env)",
   "language": "python",
   "name": "dojo-env"
  },
  "language_info": {
   "codemirror_mode": {
    "name": "ipython",
    "version": 3
   },
   "file_extension": ".py",
   "mimetype": "text/x-python",
   "name": "python",
   "nbconvert_exporter": "python",
   "pygments_lexer": "ipython3",
   "version": "3.10.10"
  }
 },
 "nbformat": 4,
 "nbformat_minor": 5
}
